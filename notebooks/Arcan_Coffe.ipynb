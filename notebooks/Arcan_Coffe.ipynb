{
 "cells": [
  {
   "metadata": {},
   "cell_type": "markdown",
   "source": [
    "### Features explanation \n",
    "\n",
    "|Feature| Explanation|\n",
    "|:-:|:---|\n",
    "|ContactId| Unique identifier for each contact in the database.\n",
    "|FirstName| The first name of the contact.\n",
    "|LastName| The last name of the contact.\n",
    "|FullName| The complete name of the contact, often a combination of first name and last name. \n",
    "|DateOfBirth| The contact's date of birth (Format: YYYY-MM-DD).\n",
    "|Gender| The gender of the contact (e.g., Male, Female, Other).\n",
    "|Email| The contact’s email address.\n",
    "|Telephone| The contact’s telephone number, including country and area codes.\n",
    "|PostCode| The postal code corresponding to the contact’s address.\n",
    "|StreetAddress| The street address where the contact resides.\n",
    "|City| The city where the contact resides.\n",
    "|State| The state or province where the contact resides.\n",
    "|Country| The country where the contact resides.\n",
    "|Created On| The date and time when the contact was added to the system (Format: YYYY-MM-DD HH:MM).\n",
    "|Headshot| A link or file reference to the contact’s headshot (image file).\n",
    "|Loyalty Tier| The loyalty tier assigned to the contact (e.g., Bronze, Silver, Gold), indicating their customer status or engagement level with the company.\n",
    "|Email Subscriber| Indicates whether the contact has subscribed to receive marketing emails (Yes/No).\n",
    "|Income| The estimated or reported income of the contact, usually represented annually.\n",
    "|Occupation| The contact's current occupation or job title.\n",
    "|CustomerSatisfaction| 'high', 'medium', 'low'\n",
    "\n"
   ],
   "id": "7677d1e052c351df"
  },
  {
   "metadata": {},
   "cell_type": "markdown",
   "source": "### Data Load",
   "id": "19bcef5b58569b98"
  },
  {
   "metadata": {
    "ExecuteTime": {
     "end_time": "2024-10-16T15:11:14.606466Z",
     "start_time": "2024-10-16T15:11:13.000313Z"
    }
   },
   "cell_type": "code",
   "source": [
    "import pandas as pd\n",
    "\n",
    "def load_data(url):\n",
    "    try:\n",
    "        # Attempt to load the data\n",
    "        base_df = pd.read_csv(url, delimiter=',', encoding='utf-8')  # Modify the delimiter or encoding if necessary\n",
    "        print(\"Data loaded successfully. Showing the first 50 rows:\")\n",
    "        return base_df.head(50)\n",
    "\n",
    "    except FileNotFoundError:\n",
    "        print(\"Error: File not found at the specified URL.\")\n",
    "\n",
    "    except pd.errors.ParserError:\n",
    "        print(\"Error: Could not parse the CSV file. Please check the file format and delimiter.\")\n",
    "\n",
    "    except UnicodeDecodeError:\n",
    "        print(\"Error: Encoding issue encountered. Trying a different encoding.\")\n",
    "        try:\n",
    "            base_df = pd.read_csv(url, delimiter=',', encoding='ISO-8859-1')\n",
    "            print(\"Data loaded successfully using 'ISO-8859-1' encoding. Showing the first 50 rows:\")\n",
    "            return base_df.head(50)\n",
    "        except Exception as e:\n",
    "            print(f\"An error occurred while loading the file with alternative encoding: {e}\")\n",
    "\n",
    "    except Exception as e:\n",
    "        print(f\"An unexpected error occurred: {e}\")\n",
    "\n",
    "# Provide the URL for testing\n",
    "url = \"https://filestransfer.blob.core.windows.net/ciad/Contact.txt\"\n",
    "\n",
    "# Load and display the data1\n",
    "df_test = load_data(url)\n",
    "if df_test is not None:\n",
    "    print(df_test)"
   ],
   "id": "84d8ec18ebab6850",
   "outputs": [
    {
     "name": "stdout",
     "output_type": "stream",
     "text": [
      "An unexpected error occurred: HTTP Error 409: Public access is not permitted on this storage account.\n"
     ]
    }
   ],
   "execution_count": 3
  },
  {
   "metadata": {},
   "cell_type": "code",
   "source": "print(base_df.columns)",
   "id": "3a08c5a1b52685f4",
   "outputs": [],
   "execution_count": null
  },
  {
   "metadata": {},
   "cell_type": "markdown",
   "source": "### Exploratory Data Analysis",
   "id": "25fdc61968dc6ac0"
  },
  {
   "metadata": {},
   "cell_type": "code",
   "source": [
    "# Volume of the Dataset\n",
    "num_records = len(base_df)\n",
    "num_features = len(base_df.columns)\n",
    "\n",
    "print(f\"The dataset has {num_records} records and {num_features} features.\")"
   ],
   "id": "585978058a16558a",
   "outputs": [],
   "execution_count": null
  },
  {
   "metadata": {},
   "cell_type": "code",
   "source": "print(\"Data types:\", base_df.dtypes)",
   "id": "eb19f3ac961ddbc2",
   "outputs": [],
   "execution_count": null
  },
  {
   "metadata": {},
   "cell_type": "code",
   "source": "print(\"Missing values in each column:\", base_df.isnull().sum())",
   "id": "b54839d012e69c16",
   "outputs": [],
   "execution_count": null
  },
  {
   "metadata": {},
   "cell_type": "code",
   "source": "base_df.describe()",
   "id": "39c5b6b5618dcac8",
   "outputs": [],
   "execution_count": null
  },
  {
   "metadata": {},
   "cell_type": "markdown",
   "source": [
    "### Missing Values\n",
    "Since it was not found vas amounts of missing values we will be dropping the only feature that has them"
   ],
   "id": "430730afd9122fdd"
  },
  {
   "metadata": {},
   "cell_type": "code",
   "source": [
    "# Dropping rows with missing values in critical columns\n",
    "df_cleaned = base_df.dropna(subset=[\n",
    "    \"DateOfBirth\"\n",
    "])"
   ],
   "id": "5f49e5d7462e6af5",
   "outputs": [],
   "execution_count": null
  },
  {
   "metadata": {},
   "cell_type": "markdown",
   "source": [
    "#### Removing Unnecessary Columns\n",
    "\n",
    "We remove columns that do not contribute to the analysis or predictive models. By eliminating these irrelevant features, we streamline the dataset, reduce noise, and improve the efficiency of the data processing pipeline.\n"
   ],
   "id": "111c78c1d44b3af2"
  },
  {
   "metadata": {},
   "cell_type": "code",
   "source": [
    "# List of columns to drop, the ones dropped \n",
    "columns_to_drop = ['ContactId', 'FirstName', 'LastName', 'FullName', 'Gender', 'EMail', 'Telephone', 'PostCode', 'StreetAddress', 'Headshot', 'Country']\n",
    "\n",
    "df_cleaned = df_cleaned.drop(columns=columns_to_drop)\n",
    "\n",
    "df_cleaned.head()"
   ],
   "id": "7115509404eb42da",
   "outputs": [],
   "execution_count": null
  },
  {
   "metadata": {},
   "cell_type": "markdown",
   "source": "### Fix Data types",
   "id": "203b2ba3d52a267b"
  },
  {
   "metadata": {},
   "cell_type": "code",
   "source": [
    "df_cleaned['DateOfBirth'] = pd.to_datetime(base_df['DateOfBirth'], errors='coerce')\n",
    "df_cleaned['CreatedOn'] = pd.to_datetime(base_df['CreatedOn'], errors='coerce')      "
   ],
   "id": "62f7a119e3925f67",
   "outputs": [],
   "execution_count": null
  },
  {
   "metadata": {},
   "cell_type": "code",
   "source": [
    "df_cleaned['Loyalty Tier'] = base_df['Loyalty Tier'].astype('category')\n",
    "df_cleaned['CustomerSatisfaction'] = base_df['CustomerSatisfaction'].astype('category')\n",
    "df_cleaned['Email Subscriber'] = base_df['Email Subscriber'].astype('category')"
   ],
   "id": "f61dc40bffdfc3b3",
   "outputs": [],
   "execution_count": null
  },
  {
   "metadata": {},
   "cell_type": "code",
   "source": "df_cleaned.info",
   "id": "8e2fddc90347d32f",
   "outputs": [],
   "execution_count": null
  },
  {
   "metadata": {},
   "cell_type": "code",
   "source": "df_cleaned.head(20)",
   "id": "567ae28eb982603",
   "outputs": [],
   "execution_count": null
  },
  {
   "metadata": {},
   "cell_type": "code",
   "source": "print(\"Data types:\", df_cleaned.dtypes)",
   "id": "c92f0922269b33cf",
   "outputs": [],
   "execution_count": null
  },
  {
   "metadata": {},
   "cell_type": "code",
   "source": [
    "# Set the count to distinct values in each categorical feature\n",
    "for col_name in ['City', 'State', 'Loyalty Tier', 'Email Subscriber', 'Occupation', 'CustomerSatisfaction']:\n",
    "    print(f\"\\nDistinct counts for {col_name}:\")\n",
    "    print(df_cleaned[col_name].value_counts())"
   ],
   "id": "c6f2b5f484495f4f",
   "outputs": [],
   "execution_count": null
  },
  {
   "metadata": {},
   "cell_type": "code",
   "source": [
    "# Check for duplicates in the df_cleaned dataframe\n",
    "duplicates = df_cleaned[df_cleaned.duplicated()]\n",
    "\n",
    "# Display the duplicate rows, if any\n",
    "if not duplicates.empty:\n",
    "    print(\"Duplicate rows found:\")\n",
    "    print(duplicates)\n",
    "else:\n",
    "    print(\"No duplicate rows found.\")"
   ],
   "id": "d45470f9ffa83a39",
   "outputs": [],
   "execution_count": null
  },
  {
   "metadata": {},
   "cell_type": "markdown",
   "source": "## Feature Exploration",
   "id": "673bb6ba4c4541b4"
  },
  {
   "metadata": {},
   "cell_type": "code",
   "source": [
    "import matplotlib.pyplot as plt\n",
    "\n",
    "loyalty_tier_counts = df_cleaned['Loyalty Tier'].value_counts()\n",
    "\n",
    "# Plotting the distribution of Loyalty Tier\n",
    "plt.figure(figsize=(8, 6))\n",
    "loyalty_tier_counts.plot(kind='bar', color='skyblue')\n",
    "\n",
    "# Adding titles and labels\n",
    "plt.title('Distribution of Loyalty Tier', fontsize=14)\n",
    "plt.xlabel('Loyalty Tier', fontsize=12)\n",
    "plt.ylabel('Number of Customers', fontsize=12)\n",
    "\n",
    "# Show plot\n",
    "plt.xticks(rotation=45)\n",
    "plt.show()"
   ],
   "id": "f73f84802f9f47f1",
   "outputs": [],
   "execution_count": null
  },
  {
   "metadata": {},
   "cell_type": "code",
   "source": [
    "customer_satisfaction_counts = df_cleaned['CustomerSatisfaction'].value_counts()\n",
    "\n",
    "# Plotting the distribution \n",
    "plt.figure(figsize=(8, 6))\n",
    "customer_satisfaction_counts.plot(kind='bar', color='skyblue')\n",
    "\n",
    "# Adding titles and labels\n",
    "plt.title('Distribution of Customer Satisfaction', fontsize=14)\n",
    "plt.xlabel('Satisfaction Tier', fontsize=12)\n",
    "plt.ylabel('Number of Customers', fontsize=12)\n",
    "\n",
    "# Show plot\n",
    "plt.xticks(rotation=45)\n",
    "plt.show()"
   ],
   "id": "4a635cd23e91db12",
   "outputs": [],
   "execution_count": null
  },
  {
   "metadata": {},
   "cell_type": "code",
   "source": [
    "import seaborn as sns\n",
    "\n",
    "# Plotting the distribution of Income\n",
    "plt.figure(figsize=(8, 6))\n",
    "sns.histplot(df_cleaned['Income'], kde=True, color='green')\n",
    "\n",
    "# Adding titles and labels\n",
    "plt.title('Distribution of Income', fontsize=14)\n",
    "plt.xlabel('Income', fontsize=12)\n",
    "plt.ylabel('Frequency', fontsize=12)\n",
    "\n",
    "# Show plot\n",
    "plt.show()"
   ],
   "id": "678be7fc911e61e5",
   "outputs": [],
   "execution_count": null
  },
  {
   "metadata": {},
   "cell_type": "code",
   "source": [
    "from datetime import datetime\n",
    "\n",
    "# Calculate age by subtracting 'DateOfBirth' from today's date\n",
    "current_date = datetime.now()\n",
    "df_cleaned['Age'] = df_cleaned['DateOfBirth'].apply(lambda dob: current_date.year - dob.year - ((current_date.month, current_date.day) < (dob.month, dob.day)))\n",
    "\n",
    "# Plotting the distribution of Age\n",
    "plt.figure(figsize=(8, 6))\n",
    "sns.histplot(df_cleaned['Age'], kde=True, color='purple')\n",
    "\n",
    "# Adding titles and labels\n",
    "plt.title('Distribution of Customer Age', fontsize=14)\n",
    "plt.xlabel('Age', fontsize=12)\n",
    "plt.ylabel('Frequency', fontsize=12)\n",
    "\n",
    "# Show plot\n",
    "plt.show()"
   ],
   "id": "2b0c3f08d4a95c3f",
   "outputs": [],
   "execution_count": null
  },
  {
   "metadata": {},
   "cell_type": "code",
   "source": [
    "# Ensure 'CreatedOn' is in datetime format\n",
    "df_cleaned['CreatedOn'] = pd.to_datetime(df_cleaned['CreatedOn'])\n",
    "\n",
    "# Calculate tenure in days\n",
    "df_cleaned['Tenure'] = (current_date - df_cleaned['CreatedOn']).dt.days\n",
    "\n",
    "# Plotting a histogram and density plot of Customer Tenure\n",
    "plt.figure(figsize=(8, 6))\n",
    "sns.histplot(df_cleaned['Tenure'], kde=True, color='blue')\n",
    "\n",
    "# Adding titles and labels\n",
    "plt.title('Distribution of Customer Tenure', fontsize=14)\n",
    "plt.xlabel('Tenure (Days)', fontsize=12)\n",
    "plt.ylabel('Frequency', fontsize=12)\n",
    "\n",
    "# Show plot\n",
    "plt.show()"
   ],
   "id": "72f3bea1dde02d60",
   "outputs": [],
   "execution_count": null
  },
  {
   "metadata": {},
   "cell_type": "code",
   "source": [
    "plt.figure(figsize=(8, 6))\n",
    "sns.histplot(df_cleaned['Tenure'], kde=True, color='blue')\n",
    "\n",
    "# Adding titles and labels\n",
    "plt.title('Distribution of Customer Tenure', fontsize=14)\n",
    "plt.xlabel('Tenure (Days)', fontsize=12)\n",
    "plt.ylabel('Frequency', fontsize=12)\n",
    "\n",
    "# Set y-axis limit to zoom in on the plot\n",
    "plt.ylim(0, 5000)\n",
    "\n",
    "# Show plot\n",
    "plt.show()"
   ],
   "id": "6b87d11135596754",
   "outputs": [],
   "execution_count": null
  },
  {
   "metadata": {},
   "cell_type": "code",
   "source": [
    "plt.figure(figsize=(8, 6))\n",
    "sns.histplot(df_cleaned['Tenure'], kde=True, color='blue')\n",
    "\n",
    "# Adding titles and labels\n",
    "plt.title('Distribution of Customer Tenure (Logarithmic Scale)', fontsize=14)\n",
    "plt.xlabel('Tenure (Days)', fontsize=12)\n",
    "plt.ylabel('Frequency (Log Scale)', fontsize=12)\n",
    "\n",
    "# Set y-axis to log scale\n",
    "plt.yscale('log')\n",
    "\n",
    "# Show plot\n",
    "plt.show()"
   ],
   "id": "c26376b17314b399",
   "outputs": [],
   "execution_count": null
  },
  {
   "metadata": {},
   "cell_type": "code",
   "source": [
    "# Check the min and max dates in the CreatedOn feature\n",
    "print(\"Minimum CreatedOn Date:\", df_cleaned['CreatedOn'].min())\n",
    "print(\"Maximum CreatedOn Date:\", df_cleaned['CreatedOn'].max())"
   ],
   "id": "2e0fa4e34ec3bbed",
   "outputs": [],
   "execution_count": null
  },
  {
   "metadata": {},
   "cell_type": "code",
   "source": [
    "# Check the first few rows of Tenure to verify the calculation\n",
    "df_cleaned['Tenure'] = (current_date - df_cleaned['CreatedOn']).dt.days\n",
    "df_cleaned[['CreatedOn', 'Tenure']].head(5000)"
   ],
   "id": "10b9c7d83c00a4d4",
   "outputs": [],
   "execution_count": null
  },
  {
   "metadata": {},
   "cell_type": "code",
   "source": [
    "plt.figure(figsize=(10, 6))\n",
    "sns.histplot(df_cleaned['CreatedOn'], kde=True, color='green')\n",
    "\n",
    "# Adding titles and labels\n",
    "plt.title('Distribution of CreatedOn Dates', fontsize=14)\n",
    "plt.xlabel('CreatedOn Date', fontsize=12)\n",
    "plt.ylabel('Frequency', fontsize=12)\n",
    "\n",
    "# Show plot\n",
    "plt.show()"
   ],
   "id": "3211a857cb261104",
   "outputs": [],
   "execution_count": null
  },
  {
   "metadata": {},
   "cell_type": "code",
   "source": [
    "plt.figure(figsize=(8, 6))\n",
    "email_subscriber_counts = df_cleaned['Email Subscriber'].value_counts()\n",
    "\n",
    "# Create a bar plot\n",
    "email_subscriber_counts.plot(kind='bar', color='orange')\n",
    "\n",
    "# Adding titles and labels\n",
    "plt.title('Distribution of Email Subscriber', fontsize=14)\n",
    "plt.xlabel('Email Subscriber Status', fontsize=12)\n",
    "plt.ylabel('Number of Customers', fontsize=12)\n",
    "\n",
    "# Show the plot\n",
    "plt.xticks(rotation=0)\n",
    "plt.show()"
   ],
   "id": "8de68f288823b50d",
   "outputs": [],
   "execution_count": null
  },
  {
   "metadata": {},
   "cell_type": "code",
   "source": [
    "plt.figure(figsize=(8, 6))\n",
    "occupation_counts = df_cleaned['Occupation'].value_counts()\n",
    "\n",
    "# Create a bar plot\n",
    "occupation_counts.plot(kind='bar', color='orange')\n",
    "\n",
    "# Adding titles and labels\n",
    "plt.title('Distribution of Occupations', fontsize=14)\n",
    "plt.xlabel('Occupations', fontsize=12)\n",
    "plt.ylabel('Number of Customers', fontsize=12)\n",
    "\n",
    "# Show the plot\n",
    "plt.xticks(rotation=0)\n",
    "plt.show()"
   ],
   "id": "8ee81150b42d7b76",
   "outputs": [],
   "execution_count": null
  },
  {
   "metadata": {},
   "cell_type": "markdown",
   "source": "## Feature Correlations",
   "id": "590063365ea30406"
  },
  {
   "metadata": {},
   "cell_type": "code",
   "source": [
    "# Extract only the numerical columns\n",
    "numerical_columns = df_cleaned.select_dtypes(include=['float64', 'int64']).columns\n",
    "\n",
    "# Calculate the correlation matrix\n",
    "correlation_matrix = df_cleaned[numerical_columns].corr()\n",
    "\n",
    "# Plot the correlation matrix\n",
    "plt.figure(figsize=(10, 8))\n",
    "sns.heatmap(correlation_matrix, annot=True, cmap='coolwarm', linewidths=0.5)\n",
    "\n",
    "# Adding titles and labels\n",
    "plt.title('Correlation Matrix of Numerical Features', fontsize=14)\n",
    "plt.show()"
   ],
   "id": "a2a46fb94c0d6d66",
   "outputs": [],
   "execution_count": null
  },
  {
   "metadata": {},
   "cell_type": "code",
   "source": [
    "from scipy.stats import chi2_contingency\n",
    "\n",
    "# Extract the categorical columns\n",
    "categorical_columns = df_cleaned.select_dtypes(include=['category', 'object']).columns\n",
    "\n",
    "# Perform Chi-squared test for each pair of categorical variables\n",
    "chi2_results = {}\n",
    "for col1 in categorical_columns:\n",
    "    for col2 in categorical_columns:\n",
    "        if col1 != col2:  # We don't want to test a variable with itself\n",
    "            # Create a contingency table\n",
    "            contingency_table = pd.crosstab(df_cleaned[col1], df_cleaned[col2])\n",
    "\n",
    "            # Perform the chi-squared test\n",
    "            chi2, p, dof, expected = chi2_contingency(contingency_table)\n",
    "\n",
    "            # Store the results\n",
    "            chi2_results[(col1, col2)] = p\n",
    "\n",
    "# Display significant results (p-value < 0.05)\n",
    "significant_results = {key: val for key, val in chi2_results.items() if val < 0.05}\n",
    "print(\"Significant Chi-squared tests (p-value < 0.05):\")\n",
    "print(significant_results)"
   ],
   "id": "79fd6308d9c6880b",
   "outputs": [],
   "execution_count": null
  },
  {
   "metadata": {},
   "cell_type": "markdown",
   "source": "### Fixing Imbalance",
   "id": "27bd441e7073b49c"
  },
  {
   "metadata": {},
   "cell_type": "code",
   "source": [
    "import numpy as np\n",
    "\n",
    "# We add a small constant to ensure all values are positive\n",
    "df_cleaned['Income'] = df_cleaned['Income'].apply(lambda x: x + 1 if x <= 0 else x)\n",
    "\n",
    "# Apply log transformation to the 'Income' column\n",
    "df_cleaned['Log_Income'] = np.log(df_cleaned['Income'])\n",
    "\n",
    "# Visualizing the distribution after log transformation\n",
    "plt.figure(figsize=(8, 6))\n",
    "sns.histplot(df_cleaned['Log_Income'], kde=True, color='blue')\n",
    "\n",
    "# Adding titles and labels\n",
    "plt.title('Distribution of Log-Transformed Income', fontsize=14)\n",
    "plt.xlabel('Log(Income)', fontsize=12)\n",
    "plt.ylabel('Frequency', fontsize=12)\n",
    "\n",
    "# Show the plot\n",
    "plt.show()"
   ],
   "id": "c8782b18d1199082",
   "outputs": [],
   "execution_count": null
  },
  {
   "metadata": {},
   "cell_type": "code",
   "source": [
    "# Check original Income values for log-transformed values below 10.5\n",
    "lower_income_threshold = df_cleaned[df_cleaned['Log_Income'] < 10.5]['Income']\n",
    "\n",
    "# Display those values\n",
    "print(lower_income_threshold.describe())\n",
    "print(lower_income_threshold.head())"
   ],
   "id": "c9edc27934edc0b4",
   "outputs": [],
   "execution_count": null
  },
  {
   "metadata": {},
   "cell_type": "code",
   "source": [
    "plt.figure(figsize=(12, 8))\n",
    "\n",
    "# Box plot to show the Income distribution per Occupation\n",
    "sns.boxplot(x='Occupation', y='Income', data=df_cleaned)\n",
    "\n",
    "# Adding titles and labels\n",
    "plt.title('Income Distribution by Occupation', fontsize=14)\n",
    "plt.xlabel('Occupation', fontsize=12)\n",
    "plt.ylabel('Income', fontsize=12)\n",
    "\n",
    "# Show plot\n",
    "plt.xticks(rotation=45, ha='right')  # Rotate x-axis labels for readability\n",
    "plt.show()"
   ],
   "id": "e5b7953697297d08",
   "outputs": [],
   "execution_count": null
  },
  {
   "metadata": {},
   "cell_type": "code",
   "source": [
    "plt.figure(figsize=(10, 6))\n",
    "occupation_counts = df_cleaned['Occupation'].value_counts()\n",
    "\n",
    "# Bar plot of the number of customers per occupation\n",
    "occupation_counts.plot(kind='bar', color='skyblue')\n",
    "\n",
    "# Adding titles and labels\n",
    "plt.title('Number of Customers per Occupation', fontsize=14)\n",
    "plt.xlabel('Occupation', fontsize=12)\n",
    "plt.ylabel('Number of Customers', fontsize=12)\n",
    "\n",
    "# Show plot\n",
    "plt.xticks(rotation=45, ha='right')  # Rotate x-axis labels for readability\n",
    "plt.show()"
   ],
   "id": "55050a2e52148578",
   "outputs": [],
   "execution_count": null
  },
  {
   "metadata": {},
   "cell_type": "code",
   "source": [
    "plt.figure(figsize=(10, 6))\n",
    "\n",
    "# Scatter plot to show the relationship between Income and Age\n",
    "plt.scatter(df_cleaned['Age'], df_cleaned['Income'], alpha=0.5, color='green')\n",
    "\n",
    "# Adding titles and labels\n",
    "plt.title('Scatter Plot of Income vs Customer Age', fontsize=14)\n",
    "plt.xlabel('Age', fontsize=12)\n",
    "plt.ylabel('Income', fontsize=12)\n",
    "\n",
    "# Show plot\n",
    "plt.show()"
   ],
   "id": "71224eff8921f2ae",
   "outputs": [],
   "execution_count": null
  },
  {
   "metadata": {},
   "cell_type": "code",
   "source": [
    "# Create age bins (e.g., 18-25, 26-35, etc.)\n",
    "age_bins = [18, 25, 35, 45, 55, 65, 75, 85]\n",
    "age_labels = ['18-25', '26-35', '36-45', '46-55', '56-65', '66-75', '76-85']\n",
    "df_cleaned['AgeGroup'] = pd.cut(df_cleaned['Age'], bins=age_bins, labels=age_labels)\n",
    "\n",
    "plt.figure(figsize=(12, 8))\n",
    "\n",
    "# Box plot to show the distribution of Income by Age Group\n",
    "sns.boxplot(x='AgeGroup', y='Income', data=df_cleaned)\n",
    "\n",
    "# Adding titles and labels\n",
    "plt.title('Income Distribution by Age Group', fontsize=14)\n",
    "plt.xlabel('Age Group', fontsize=12)\n",
    "plt.ylabel('Income', fontsize=12)\n",
    "\n",
    "# Show plot\n",
    "plt.xticks(rotation=45)\n",
    "plt.show()"
   ],
   "id": "f4c4796e8e38cfd",
   "outputs": [],
   "execution_count": null
  },
  {
   "metadata": {},
   "cell_type": "code",
   "source": [
    "plt.figure(figsize=(10, 6))\n",
    "\n",
    "# Create a 2D histogram (heatmap) to visualize the density of income and age\n",
    "plt.hist2d(df_cleaned['Age'], df_cleaned['Income'], bins=[30, 30], cmap='Blues')\n",
    "\n",
    "# Adding titles and labels\n",
    "plt.title('Heatmap of Income vs Customer Age', fontsize=14)\n",
    "plt.xlabel('Age', fontsize=12)\n",
    "plt.ylabel('Income', fontsize=12)\n",
    "\n",
    "# Adding color bar\n",
    "plt.colorbar(label='Number of Customers')\n",
    "\n",
    "# Show plot\n",
    "plt.show()"
   ],
   "id": "81c762b7ce1be6a1",
   "outputs": [],
   "execution_count": null
  },
  {
   "metadata": {},
   "cell_type": "code",
   "source": [
    "# Basic statistics for Customer Age\n",
    "age_stats = df_cleaned['Age'].describe()\n",
    "\n",
    "print(\"Summary Statistics for Customer Age:\")\n",
    "print(age_stats)"
   ],
   "id": "8ac1f53322d4f4e9",
   "outputs": [],
   "execution_count": null
  },
  {
   "metadata": {},
   "cell_type": "code",
   "source": [
    "plt.figure(figsize=(8, 6))\n",
    "\n",
    "# Box plot for Customer Age\n",
    "sns.boxplot(df_cleaned['Age'], color='lightblue')\n",
    "\n",
    "# Adding titles and labels\n",
    "plt.title('Box Plot of Customer Age', fontsize=14)\n",
    "plt.xlabel('Age', fontsize=12)\n",
    "\n",
    "# Show plot\n",
    "plt.show()"
   ],
   "id": "1a724e1645bfabb7",
   "outputs": [],
   "execution_count": null
  },
  {
   "metadata": {},
   "cell_type": "code",
   "source": [
    "# Define age groups (bins)\n",
    "age_bins = [18, 25, 35, 45, 55, 65, 75, 85]\n",
    "age_labels = ['18-25', '26-35', '36-45', '46-55', '56-65', '66-75', '76-85']\n",
    "df_cleaned['AgeGroup'] = pd.cut(df_cleaned['Age'], bins=age_bins, labels=age_labels)\n",
    "\n",
    "# Count the number of customers in each age group\n",
    "age_group_counts = df_cleaned['AgeGroup'].value_counts().sort_index()\n",
    "\n",
    "# Bar plot of the number of customers in each age group\n",
    "plt.figure(figsize=(10, 6))\n",
    "age_group_counts.plot(kind='bar', color='lightgreen')\n",
    "\n",
    "# Adding titles and labels\n",
    "plt.title('Number of Customers by Age Group', fontsize=14)\n",
    "plt.xlabel('Age Group', fontsize=12)\n",
    "plt.ylabel('Number of Customers', fontsize=12)\n",
    "\n",
    "# Show plot\n",
    "plt.xticks(rotation=45)\n",
    "plt.show()"
   ],
   "id": "9f3ee1adfdcbab23",
   "outputs": [],
   "execution_count": null
  },
  {
   "metadata": {},
   "cell_type": "code",
   "source": "",
   "id": "93011ef6575fffff",
   "outputs": [],
   "execution_count": null
  }
 ],
 "metadata": {
  "kernelspec": {
   "display_name": "Python 3",
   "language": "python",
   "name": "python3"
  },
  "language_info": {
   "codemirror_mode": {
    "name": "ipython",
    "version": 2
   },
   "file_extension": ".py",
   "mimetype": "text/x-python",
   "name": "python",
   "nbconvert_exporter": "python",
   "pygments_lexer": "ipython2",
   "version": "2.7.6"
  }
 },
 "nbformat": 4,
 "nbformat_minor": 5
}
